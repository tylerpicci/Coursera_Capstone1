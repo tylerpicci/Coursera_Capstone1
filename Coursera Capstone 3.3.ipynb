{
    "cells": [
        {
            "cell_type": "code",
            "execution_count": null,
            "metadata": {},
            "outputs": [
                {
                    "name": "stdout",
                    "output_type": "stream",
                    "text": "Solving environment: / "
                }
            ],
            "source": "import pandas as pd # library for data analsysis\nimport numpy as np # library to handle data in a vectorized manner\nimport random # library for random number generation\n\n# libraries for displaying images\nfrom IPython.display import Image \nfrom IPython.core.display import HTML \n\n!conda install -c conda-forge folium=0.5.0 --yes\nimport folium # plotting library\n\nprint('Folium installed')\nprint('Libraries imported.')"
        },
        {
            "cell_type": "code",
            "execution_count": null,
            "metadata": {},
            "outputs": [],
            "source": "# read html table to dataframe\n\ndfs = pd.read_html('https://en.wikipedia.org/wiki/List_of_postal_codes_of_Canada:_M', header=0)\ndfs[0].head()"
        },
        {
            "cell_type": "code",
            "execution_count": null,
            "metadata": {},
            "outputs": [],
            "source": "\n#drop rows where Borough is Not assigned\ndfm=dfs[0]\ndfm.head()\n\ndfm.drop(dfm[dfm['Borough'] == 'Not assigned'].index, inplace = True)\n\n# reset index, because we droped rows\ndfm.reset_index(drop=True, inplace=True)\n\ndfm.set_index([\"Postal Code\"], inplace = True, \n                    append = True, drop = True) \n\ndfm.head()"
        },
        {
            "cell_type": "code",
            "execution_count": null,
            "metadata": {},
            "outputs": [],
            "source": "#look at shape\ndfm.shape"
        },
        {
            "cell_type": "code",
            "execution_count": null,
            "metadata": {},
            "outputs": [],
            "source": "\n#read csv file with long/lat info\ndfss = pd.read_csv('http://cocl.us/Geospatial_data')\n\n\ndfss.set_index([\"Postal Code\"], inplace = True, \n                    append = True, drop = True) \ndfss.head()"
        },
        {
            "cell_type": "code",
            "execution_count": null,
            "metadata": {},
            "outputs": [],
            "source": "#join two dataframes\n\nmerged_df = pd.merge(dfm, dfss, \n                     left_on = 'Postal Code', \n                     right_on = 'Postal Code', \n                     how='left')\nmerged_df"
        },
        {
            "cell_type": "code",
            "execution_count": null,
            "metadata": {},
            "outputs": [],
            "source": "# map centered around Downtown Toronto"
        },
        {
            "cell_type": "code",
            "execution_count": null,
            "metadata": {},
            "outputs": [],
            "source": ""
        }
    ],
    "metadata": {
        "kernelspec": {
            "display_name": "Python 3.6",
            "language": "python",
            "name": "python3"
        },
        "language_info": {
            "codemirror_mode": {
                "name": "ipython",
                "version": 3
            },
            "file_extension": ".py",
            "mimetype": "text/x-python",
            "name": "python",
            "nbconvert_exporter": "python",
            "pygments_lexer": "ipython3",
            "version": "3.6.9"
        }
    },
    "nbformat": 4,
    "nbformat_minor": 1
}